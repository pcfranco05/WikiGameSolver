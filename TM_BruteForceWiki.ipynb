{
 "cells": [
  {
   "cell_type": "code",
   "execution_count": 17,
   "metadata": {},
   "outputs": [],
   "source": [
    "import requests\n",
    "from bs4 import BeautifulSoup\n",
    "from nltk.tokenize import word_tokenize\n"
   ]
  },
  {
   "cell_type": "code",
   "execution_count": 22,
   "metadata": {},
   "outputs": [],
   "source": [
    "start_article = \"Star World Championship\"\n",
    "end_article = \"America's Cup\""
   ]
  },
  {
   "cell_type": "code",
   "execution_count": 23,
   "metadata": {},
   "outputs": [
    {
     "name": "stdout",
     "output_type": "stream",
     "text": [
      "324\n",
      "Number of words:  1791\n"
     ]
    }
   ],
   "source": [
    "#subject = ''\n",
    " \n",
    "url = 'https://en.wikipedia.org/w/api.php'\n",
    "params = {\n",
    "            'action': 'parse',\n",
    "            'page': start_article,\n",
    "            'format': 'json',\n",
    "            'prop':'text',\n",
    "            'redirects':''\n",
    "        }\n",
    " \n",
    "response = requests.get(url, params=params)\n",
    "data = response.json()\n",
    " \n",
    "raw_html = data['parse']['text']['*']\n",
    "soup = BeautifulSoup(raw_html,'html.parser')\n",
    "soup.find_all('p')\n",
    "text = ''\n",
    " \n",
    "for p in soup.find_all('p'):\n",
    "    text += p.text\n",
    "    \n",
    "print(len(word_tokenize(text)))\n",
    "print('Number of words: ', len(text))"
   ]
  },
  {
   "cell_type": "code",
   "execution_count": 25,
   "metadata": {},
   "outputs": [
    {
     "name": "stdout",
     "output_type": "stream",
     "text": [
      "602\n"
     ]
    }
   ],
   "source": [
    "\n",
    "#subject = ''\n",
    " \n",
    "url = 'https://en.wikipedia.org/w/api.php'\n",
    " \n",
    "params = {\n",
    "    'action': 'query',\n",
    "    'format': 'json',\n",
    "    'titles': start_article,\n",
    "    'prop': 'links',\n",
    "    'pllimit': 'max',\n",
    "    'redirects':''\n",
    "}\n",
    " \n",
    "response = requests.get(url=url, params=params)\n",
    "data = response.json()\n",
    " \n",
    "pages = data['query']['pages']\n",
    "page = 1\n",
    "page_titles = []\n",
    " \n",
    "for key, val in pages.items():\n",
    "    for link in val['links']:\n",
    "        page_titles.append(link['title'])\n",
    " \n",
    "while 'continue' in data:\n",
    "    plcontinue = data['continue']['plcontinue']\n",
    "    params['plcontinue'] = plcontinue\n",
    " \n",
    "    response = requests.get(url=url, params=params)\n",
    "    data = response.json()\n",
    "    pages = data['query']['pages']\n",
    " \n",
    "    page += 1\n",
    " \n",
    "    for key, val in pages.items():\n",
    "        for link in val['links']:\n",
    "            page_titles.append(link['title'])\n",
    " \n",
    "#page_titles[:3]\n",
    "print(len(page_titles[:]))"
   ]
  },
  {
   "cell_type": "code",
   "execution_count": null,
   "metadata": {},
   "outputs": [],
   "source": []
  }
 ],
 "metadata": {
  "kernelspec": {
   "display_name": "Python 3",
   "language": "python",
   "name": "python3"
  },
  "language_info": {
   "codemirror_mode": {
    "name": "ipython",
    "version": 3
   },
   "file_extension": ".py",
   "mimetype": "text/x-python",
   "name": "python",
   "nbconvert_exporter": "python",
   "pygments_lexer": "ipython3",
   "version": "3.8.5"
  }
 },
 "nbformat": 4,
 "nbformat_minor": 4
}
